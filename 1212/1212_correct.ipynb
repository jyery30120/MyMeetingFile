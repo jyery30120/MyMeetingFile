{
  "nbformat": 4,
  "nbformat_minor": 0,
  "metadata": {
    "colab": {
      "name": "1212_correct.ipynb",
      "provenance": [],
      "collapsed_sections": []
    },
    "kernelspec": {
      "name": "python3",
      "display_name": "Python 3"
    }
  },
  "cells": [
    {
      "cell_type": "markdown",
      "metadata": {
        "id": "PTCi5RMsaytT",
        "colab_type": "text"
      },
      "source": [
        "1.連drive"
      ]
    },
    {
      "cell_type": "code",
      "metadata": {
        "id": "hhdgmD3rY1Aj",
        "colab_type": "code",
        "outputId": "cea9f78f-f601-43c8-c39f-460a4c085195",
        "colab": {
          "base_uri": "https://localhost:8080/",
          "height": 122
        }
      },
      "source": [
        "from google.colab import drive\n",
        "drive.mount('/content/drive')"
      ],
      "execution_count": 1,
      "outputs": [
        {
          "output_type": "stream",
          "text": [
            "Go to this URL in a browser: https://accounts.google.com/o/oauth2/auth?client_id=947318989803-6bn6qk8qdgf4n4g3pfee6491hc0brc4i.apps.googleusercontent.com&redirect_uri=urn%3aietf%3awg%3aoauth%3a2.0%3aoob&response_type=code&scope=email%20https%3a%2f%2fwww.googleapis.com%2fauth%2fdocs.test%20https%3a%2f%2fwww.googleapis.com%2fauth%2fdrive%20https%3a%2f%2fwww.googleapis.com%2fauth%2fdrive.photos.readonly%20https%3a%2f%2fwww.googleapis.com%2fauth%2fpeopleapi.readonly\n",
            "\n",
            "Enter your authorization code:\n",
            "··········\n",
            "Mounted at /content/drive\n"
          ],
          "name": "stdout"
        }
      ]
    },
    {
      "cell_type": "markdown",
      "metadata": {
        "id": "Xbt8gctDWfeK",
        "colab_type": "text"
      },
      "source": [
        "2.取得BERT-base Chinese預訓練模型  解壓縮後資料夾放到GDRIVE對應目錄      \n",
        "https://storage.googleapis.com/bert_models/2018_11_03/chinese_L-12_H-768_A-12.zip"
      ]
    },
    {
      "cell_type": "markdown",
      "metadata": {
        "id": "rlnrm_ooSV7c",
        "colab_type": "text"
      },
      "source": [
        "3.安裝Kashgari套件 安裝完要 **restart runtine** ，restart後直接接第4點繼續跑程式"
      ]
    },
    {
      "cell_type": "code",
      "metadata": {
        "id": "3MUHeCwzSQ_9",
        "colab_type": "code",
        "colab": {}
      },
      "source": [
        "!pip install Kashgari"
      ],
      "execution_count": 0,
      "outputs": []
    },
    {
      "cell_type": "markdown",
      "metadata": {
        "id": "9JaDnFWbTbua",
        "colab_type": "text"
      },
      "source": [
        "4.安裝 bert4keras 安裝完不用restart"
      ]
    },
    {
      "cell_type": "code",
      "metadata": {
        "id": "XvdPj0i3TZw3",
        "colab_type": "code",
        "colab": {}
      },
      "source": [
        "!pip install git+https://www.github.com/bojone/bert4keras.git"
      ],
      "execution_count": 0,
      "outputs": []
    },
    {
      "cell_type": "markdown",
      "metadata": {
        "id": "eCHqe5H4bkq1",
        "colab_type": "text"
      },
      "source": [
        "5.切換到目錄到工作目錄 裡面要有 chinese_L-12_H-768_A-12 資料夾"
      ]
    },
    {
      "cell_type": "code",
      "metadata": {
        "id": "voc4AzUTbQ8C",
        "colab_type": "code",
        "outputId": "4460665d-3204-4b43-ae49-f2f479ebd30a",
        "colab": {
          "base_uri": "https://localhost:8080/",
          "height": 34
        }
      },
      "source": [
        "cd drive/My Drive/1212"
      ],
      "execution_count": 3,
      "outputs": [
        {
          "output_type": "stream",
          "text": [
            "/content/drive/My Drive/1212\n"
          ],
          "name": "stdout"
        }
      ]
    },
    {
      "cell_type": "markdown",
      "metadata": {
        "id": "CocRMa24S469",
        "colab_type": "text"
      },
      "source": [
        "5.建立模型(NER)"
      ]
    },
    {
      "cell_type": "code",
      "metadata": {
        "id": "QAsY2yHlSyE4",
        "colab_type": "code",
        "outputId": "c670ef55-95c5-48e0-fb62-eb4d70bba684",
        "colab": {
          "base_uri": "https://localhost:8080/",
          "height": 80
        }
      },
      "source": [
        "import kashgari \n",
        "from kashgari.embeddings import BERTEmbedding\n",
        "from kashgari.tasks.labeling import BiGRU_Model\n",
        "from kashgari.corpus import ChineseDailyNerCorpus\n",
        "\n",
        "\n",
        "bert_embedding = BERTEmbedding('chinese_L-12_H-768_A-12', \n",
        "                               task=kashgari.LABELING,\n",
        "                               sequence_length=30)\n",
        "model = BiGRU_Model(bert_embedding)\n"
      ],
      "execution_count": 4,
      "outputs": [
        {
          "output_type": "display_data",
          "data": {
            "text/html": [
              "<p style=\"color: red;\">\n",
              "The default version of TensorFlow in Colab will soon switch to TensorFlow 2.x.<br>\n",
              "We recommend you <a href=\"https://www.tensorflow.org/guide/migrate\" target=\"_blank\">upgrade</a> now \n",
              "or ensure your notebook will continue to use TensorFlow 1.x via the <code>%tensorflow_version 1.x</code> magic:\n",
              "<a href=\"https://colab.research.google.com/notebooks/tensorflow_version.ipynb\" target=\"_blank\">more info</a>.</p>\n"
            ],
            "text/plain": [
              "<IPython.core.display.HTML object>"
            ]
          },
          "metadata": {
            "tags": []
          }
        },
        {
          "output_type": "stream",
          "text": [
            "WARNING:root:seq_len: 30\n"
          ],
          "name": "stderr"
        }
      ]
    },
    {
      "cell_type": "markdown",
      "metadata": {
        "id": "bBGSb2qMdTrz",
        "colab_type": "text"
      },
      "source": [
        "6.有要重新訓練的話跑這三行  不訓練可以下載我訓練的model放到工作目錄進行調用   \n",
        "我自己訓練完的model   \n",
        "https://drive.google.com/open?id=1ahwAnOQG8zu3k5WfkieM0S-s4yx1nSqV   \n",
        "(裡面兩個檔案要放在BERT_ChineseDailyNerCorpus_model名稱的資料夾下)   \n",
        "(BERT_ChineseDailyNerCorpus_model 資料夾要放在工作目錄   )"
      ]
    },
    {
      "cell_type": "code",
      "metadata": {
        "id": "mXx-cWab3zl3",
        "colab_type": "code",
        "colab": {
          "base_uri": "https://localhost:8080/",
          "height": 34
        },
        "outputId": "8ab8b382-4d60-4fd5-a092-a51b71acd6fd"
      },
      "source": [
        "ls"
      ],
      "execution_count": 18,
      "outputs": [
        {
          "output_type": "stream",
          "text": [
            "\u001b[0m\u001b[01;34mBERT_ChineseDailyNerCorpus_model\u001b[0m/  \u001b[01;34mchinese_L-12_H-768_A-12\u001b[0m/\n"
          ],
          "name": "stdout"
        }
      ]
    },
    {
      "cell_type": "code",
      "metadata": {
        "id": "5W8xsd_xdSmG",
        "colab_type": "code",
        "colab": {}
      },
      "source": [
        "# train_x, train_y = ChineseDailyNerCorpus.load_data()\n",
        "# model.fit(train_x, train_y)\n",
        "# model.save('BERT_ChineseDailyNerCorpus_model') "
      ],
      "execution_count": 0,
      "outputs": []
    },
    {
      "cell_type": "markdown",
      "metadata": {
        "id": "zCHvecv_TAnL",
        "colab_type": "text"
      },
      "source": [
        "7.調用模型(NER)"
      ]
    },
    {
      "cell_type": "code",
      "metadata": {
        "id": "ULyTVkSWS3Ha",
        "colab_type": "code",
        "outputId": "feab806f-5849-4e49-9c66-627d0abb824c",
        "colab": {
          "base_uri": "https://localhost:8080/",
          "height": 34
        }
      },
      "source": [
        " loaded_model =  kashgari.utils.load_model('BERT_ChineseDailyNerCorpus_model')"
      ],
      "execution_count": 5,
      "outputs": [
        {
          "output_type": "stream",
          "text": [
            "WARNING:root:Sequence length will auto set at 95% of sequence length\n"
          ],
          "name": "stderr"
        }
      ]
    },
    {
      "cell_type": "markdown",
      "metadata": {
        "id": "Q2URJei5TkNO",
        "colab_type": "text"
      },
      "source": [
        "8.bert4keras套件 & 加載maskLM模型"
      ]
    },
    {
      "cell_type": "code",
      "metadata": {
        "id": "tsdAkUsqTXPK",
        "colab_type": "code",
        "colab": {}
      },
      "source": [
        "from bert4keras.bert import build_bert_model\n",
        "from bert4keras.tokenizer import Tokenizer\n",
        "import numpy as np\n",
        "\n",
        "\n",
        "config_path = './chinese_L-12_H-768_A-12/bert_config.json'\n",
        "checkpoint_path = './chinese_L-12_H-768_A-12/bert_model.ckpt'\n",
        "dict_path = './chinese_L-12_H-768_A-12/vocab.txt'\n",
        "\n",
        "tokenizer = Tokenizer(dict_path) # 建立分词器\n",
        "model = build_bert_model(config_path, checkpoint_path, with_mlm=True) # 建立模型，加载权重"
      ],
      "execution_count": 0,
      "outputs": []
    },
    {
      "cell_type": "markdown",
      "metadata": {
        "id": "PE_ihlZXT7EA",
        "colab_type": "text"
      },
      "source": [
        "程式部分"
      ]
    },
    {
      "cell_type": "code",
      "metadata": {
        "id": "pN2aUhKT0XuE",
        "colab_type": "code",
        "colab": {}
      },
      "source": [
        "def correction():\n",
        "  print('請輸入文字')\n",
        "  n = input()\n",
        "  list1 = list(n[:29])\n",
        "  list2=[]\n",
        "  list2.append(list1)\n",
        "  i , j , k  = 0 , 29 ,len(n)\n",
        "\n",
        "\n",
        "  while( k >= 30):\n",
        "     list2.append(list(n[j : j + 29 ]))\n",
        "     j = j + 29\n",
        "     k = k - 29\n",
        "\n",
        "  list3 = []\n",
        "  list3 = loaded_model.predict(list2)\n",
        "  posList = []\n",
        "\n",
        "#預測NER label\n",
        "  count = 0\n",
        "  for num_1 , i in enumerate(list3):\n",
        "    for num_2 , j in enumerate(i):\n",
        "      if(j != 'O'):\n",
        "        posList.append(count)\n",
        "      count = count + 1\n",
        "\n",
        "# 預測mask\n",
        "  result = ''\n",
        "\n",
        "  for i in range(1,len(n)+1):\n",
        "    token_ids, segment_ids = tokenizer.encode(n,'utf-8')\n",
        "    if i in posList or not n[i-1].isalpha():\n",
        "        result = result + n[i-1]\n",
        "        continue\n",
        "    token_ids[i] = tokenizer._token_dict['[MASK]']\n",
        "    probas = model.predict([np.array([token_ids]), np.array([segment_ids])])[0]\n",
        "    x = probas[i:i+1].argsort()[0][-5:]\n",
        "    de = tokenizer.decode(x)\n",
        "    if(n[i-1] not in de):\n",
        "      result = result +' \\033[1;34m ( \\033[0m'+n[i-1]+'>'+ tokenizer.decode(probas[i:i+1].argmax(axis=1))+'\\033[1;34m ) \\033[0m'\n",
        "    else:\n",
        "      result = result + n[i-1]   \n",
        "  return result "
      ],
      "execution_count": 0,
      "outputs": []
    },
    {
      "cell_type": "code",
      "metadata": {
        "id": "VYZuSma50b9D",
        "colab_type": "code",
        "colab": {
          "base_uri": "https://localhost:8080/",
          "height": 68
        },
        "outputId": "d3a0decb-8139-4151-f40b-6dc9baf46521"
      },
      "source": [
        "print(correction())"
      ],
      "execution_count": 14,
      "outputs": [
        {
          "output_type": "stream",
          "text": [
            "請輸入文字\n",
            "段譽—大理國「鎮南王」段正淳的世子，涉足江湖後和喬峰(蕭峰)、虛竹義結金蘭，排行三弟。\n",
            "段譽—大理國「鎮南王」段正 \u001b[1;34m ( \u001b[0m淳>義\u001b[1;34m ) \u001b[0m的 \u001b[1;34m ( \u001b[0m世>兒\u001b[1;34m ) \u001b[0m子，涉足江湖後和喬峰(蕭峰)、虛 \u001b[1;34m ( \u001b[0m竹>雲\u001b[1;34m ) \u001b[0m義結金蘭，排行三弟。\n"
          ],
          "name": "stdout"
        }
      ]
    },
    {
      "cell_type": "code",
      "metadata": {
        "id": "R-0bhF1B2D8n",
        "colab_type": "code",
        "colab": {
          "base_uri": "https://localhost:8080/",
          "height": 68
        },
        "outputId": "5e5c4ce8-ae10-40ad-f27f-e39a469c4bab"
      },
      "source": [
        "print(correction())"
      ],
      "execution_count": 15,
      "outputs": [
        {
          "output_type": "stream",
          "text": [
            "請輸入文字\n",
            "宋理宗景定元年，第三次華山論劍後，郭靖之女郭襄一人騎著青驢，走遍天下，尋訪楊過和小龍女。三年後，郭襄來到河南少林寺，尋找楊過的好友、羅漢堂首座無色禪師詢問楊、龍二人的下落不果。\n",
            "宋理宗景 \u001b[1;34m ( \u001b[0m定>德\u001b[1;34m ) \u001b[0m元年，第三次華山論劍後，郭靖之女郭襄一人騎著 \u001b[1;34m ( \u001b[0m青>白\u001b[1;34m ) \u001b[0m \u001b[1;34m ( \u001b[0m驢>龍\u001b[1;34m ) \u001b[0m，走遍天下，尋訪楊過和小龍女。三年後，郭襄來到河南少林寺，尋找楊過的好友、羅漢 \u001b[1;34m ( \u001b[0m堂>山\u001b[1;34m ) \u001b[0m首座 \u001b[1;34m ( \u001b[0m無>妙\u001b[1;34m ) \u001b[0m \u001b[1;34m ( \u001b[0m色>量\u001b[1;34m ) \u001b[0m禪師詢問楊、 \u001b[1;34m ( \u001b[0m龍>郭\u001b[1;34m ) \u001b[0m二人的下落不果。\n"
          ],
          "name": "stdout"
        }
      ]
    },
    {
      "cell_type": "code",
      "metadata": {
        "id": "rqMLDyVt2LDg",
        "colab_type": "code",
        "colab": {
          "base_uri": "https://localhost:8080/",
          "height": 88
        },
        "outputId": "32de643c-aa2d-4d05-c8ab-95d0f69246ff"
      },
      "source": [
        "print(correction())"
      ],
      "execution_count": 16,
      "outputs": [
        {
          "output_type": "stream",
          "text": [
            "請輸入文字\n",
            "武當派弟子「銀鉤鐵劃」張翠山前往江南調查俞岱巖受襲之事，卻發現受託運送受傷的俞岱巖的龍門鏢局慘遭滅門，又認識了天鷹教教主殷天正女兒，紫微堂堂主殷素素，更得知龍門鏢局滅門慘案是殷素素所為。\n",
            "武當派弟子「銀鉤 \u001b[1;34m ( \u001b[0m鐵>計\u001b[1;34m ) \u001b[0m \u001b[1;34m ( \u001b[0m劃>爪\u001b[1;34m ) \u001b[0m」張翠 \u001b[1;34m ( \u001b[0m山>雲\u001b[1;34m ) \u001b[0m前往江南調查俞岱巖受 \u001b[1;34m ( \u001b[0m襲>傷\u001b[1;34m ) \u001b[0m之事，卻發現受 \u001b[1;34m ( \u001b[0m託>命\u001b[1;34m ) \u001b[0m運 \u001b[1;34m ( \u001b[0m送>而\u001b[1;34m ) \u001b[0m受傷的俞岱巖的龍門鏢局慘遭滅門， \u001b[1;34m ( \u001b[0m又>並\u001b[1;34m ) \u001b[0m認識了天鷹教教主殷天 \u001b[1;34m ( \u001b[0m正>龍\u001b[1;34m ) \u001b[0m女兒，紫微堂堂主殷素素，更得知龍門鏢局滅門慘案是殷素素所為。\n"
          ],
          "name": "stdout"
        }
      ]
    },
    {
      "cell_type": "markdown",
      "metadata": {
        "id": "20QSYgic2d_h",
        "colab_type": "text"
      },
      "source": [
        "# 未來方向&可能方向   \n",
        "Fine tuning模型   \n",
        "加入混淆詞   \n",
        "拼音   \n",
        "辨識錯詞   \n",
        "結巴切詞   \n",
        "專有名詞的錯誤識別   \n",
        "自己建立模型、疊隱藏層   "
      ]
    },
    {
      "cell_type": "markdown",
      "metadata": {
        "id": "78aIFHmP2yye",
        "colab_type": "text"
      },
      "source": [
        "# 參考\n",
        "基于深度学习的中文文本自动校对研究与实现   \n",
        "https://github.com/shibing624/pycorrector/blob/master/docs/%E5%9F%BA%E4%BA%8E%E6%B7%B1%E5%BA%A6%E5%AD%A6%E4%B9%A0%E7%9A%84%E4%B8%AD%E6%96%87%E6%96%87%E6%9C%AC%E8%87%AA%E5%8A%A8%E6%A0%A1%E5%AF%B9%E7%A0%94%E7%A9%B6%E4%B8%8E%E5%AE%9E%E7%8E%B0.pdf\n"
      ]
    }
  ]
}

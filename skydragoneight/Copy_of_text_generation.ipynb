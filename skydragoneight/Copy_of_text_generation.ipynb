{
 "cells": [
  {
   "cell_type": "markdown",
   "metadata": {
    "colab_type": "text",
    "id": "t09eeeR5prIJ"
   },
   "source": [
    "##### Copyright 2019 The TensorFlow Authors."
   ]
  },
  {
   "cell_type": "code",
   "execution_count": 0,
   "metadata": {
    "cellView": "form",
    "colab": {},
    "colab_type": "code",
    "id": "GCCk8_dHpuNf"
   },
   "outputs": [],
   "source": [
    "#@title Licensed under the Apache License, Version 2.0 (the \"License\");\n",
    "# you may not use this file except in compliance with the License.\n",
    "# You may obtain a copy of the License at\n",
    "#\n",
    "# https://www.apache.org/licenses/LICENSE-2.0\n",
    "#\n",
    "# Unless required by applicable law or agreed to in writing, software\n",
    "# distributed under the License is distributed on an \"AS IS\" BASIS,\n",
    "# WITHOUT WARRANTIES OR CONDITIONS OF ANY KIND, either express or implied.\n",
    "# See the License for the specific language governing permissions and\n",
    "# limitations under the License."
   ]
  },
  {
   "cell_type": "markdown",
   "metadata": {
    "colab_type": "text",
    "id": "hcD2nPQvPOFM"
   },
   "source": [
    "# Text generation with an RNN\n",
    "\n",
    "<table class=\"tfo-notebook-buttons\" align=\"left\">\n",
    "<td>\n",
    "<a target=\"_blank\" href=\"https://www.tensorflow.org/alpha/tutorials/sequences/text_generation\"><img src=\"https://www.tensorflow.org/images/tf_logo_32px.png\" />View on TensorFlow.org</a>\n",
    "</td><td>\n",
    "<a target=\"_blank\"  href=\"https://colab.research.google.com/github/tensorflow/docs/blob/master/site/en/r2/tutorials/sequences/text_generation.ipynb\">\n",
    "    <img src=\"https://www.tensorflow.org/images/colab_logo_32px.png\" />Run in Google Colab</a>  \n",
    "</td><td>\n",
    "<a target=\"_blank\"  href=\"https://github.com/tensorflow/docs/blob/master/site/en/r2/tutorials/sequences/text_generation.ipynb\"><img width=32px src=\"https://www.tensorflow.org/images/GitHub-Mark-32px.png\" />View source on GitHub</a></td></table>"
   ]
  },
  {
   "cell_type": "markdown",
   "metadata": {
    "colab_type": "text",
    "id": "srXC6pLGLwS6"
   },
   "source": [
    "## Setup"
   ]
  },
  {
   "cell_type": "markdown",
   "metadata": {
    "colab_type": "text",
    "id": "WGyKZj3bzf9p"
   },
   "source": [
    "### Import TensorFlow and other libraries"
   ]
  },
  {
   "cell_type": "code",
   "execution_count": 91,
   "metadata": {
    "colab": {
     "base_uri": "https://localhost:8080/",
     "height": 367
    },
    "colab_type": "code",
    "id": "yG_n40gFzf9s",
    "outputId": "26319246-31bb-4cbd-9c28-7b175737a138"
   },
   "outputs": [
    {
     "name": "stdout",
     "output_type": "stream",
     "text": [
      "Requirement already satisfied: tensorflow-gpu==2.0.0-alpha0 in /usr/local/lib/python3.6/dist-packages (2.0.0a0)\n",
      "Requirement already satisfied: grpcio>=1.8.6 in /usr/local/lib/python3.6/dist-packages (from tensorflow-gpu==2.0.0-alpha0) (1.15.0)\n",
      "Requirement already satisfied: numpy<2.0,>=1.14.5 in /usr/local/lib/python3.6/dist-packages (from tensorflow-gpu==2.0.0-alpha0) (1.14.6)\n",
      "Requirement already satisfied: tf-estimator-nightly<1.14.0.dev2019030116,>=1.14.0.dev2019030115 in /usr/local/lib/python3.6/dist-packages (from tensorflow-gpu==2.0.0-alpha0) (1.14.0.dev2019030115)\n",
      "Requirement already satisfied: astor>=0.6.0 in /usr/local/lib/python3.6/dist-packages (from tensorflow-gpu==2.0.0-alpha0) (0.7.1)\n",
      "Requirement already satisfied: gast>=0.2.0 in /usr/local/lib/python3.6/dist-packages (from tensorflow-gpu==2.0.0-alpha0) (0.2.2)\n",
      "Requirement already satisfied: termcolor>=1.1.0 in /usr/local/lib/python3.6/dist-packages (from tensorflow-gpu==2.0.0-alpha0) (1.1.0)\n",
      "Requirement already satisfied: keras-applications>=1.0.6 in /usr/local/lib/python3.6/dist-packages (from tensorflow-gpu==2.0.0-alpha0) (1.0.7)\n",
      "Requirement already satisfied: absl-py>=0.7.0 in /usr/local/lib/python3.6/dist-packages (from tensorflow-gpu==2.0.0-alpha0) (0.7.1)\n",
      "Requirement already satisfied: google-pasta>=0.1.2 in /usr/local/lib/python3.6/dist-packages (from tensorflow-gpu==2.0.0-alpha0) (0.1.5)\n",
      "Requirement already satisfied: keras-preprocessing>=1.0.5 in /usr/local/lib/python3.6/dist-packages (from tensorflow-gpu==2.0.0-alpha0) (1.0.9)\n",
      "Requirement already satisfied: protobuf>=3.6.1 in /usr/local/lib/python3.6/dist-packages (from tensorflow-gpu==2.0.0-alpha0) (3.7.1)\n",
      "Requirement already satisfied: tb-nightly<1.14.0a20190302,>=1.14.0a20190301 in /usr/local/lib/python3.6/dist-packages (from tensorflow-gpu==2.0.0-alpha0) (1.14.0a20190301)\n",
      "Requirement already satisfied: wheel>=0.26 in /usr/local/lib/python3.6/dist-packages (from tensorflow-gpu==2.0.0-alpha0) (0.33.1)\n",
      "Requirement already satisfied: six>=1.10.0 in /usr/local/lib/python3.6/dist-packages (from tensorflow-gpu==2.0.0-alpha0) (1.11.0)\n",
      "Requirement already satisfied: h5py in /usr/local/lib/python3.6/dist-packages (from keras-applications>=1.0.6->tensorflow-gpu==2.0.0-alpha0) (2.8.0)\n",
      "Requirement already satisfied: setuptools in /usr/local/lib/python3.6/dist-packages (from protobuf>=3.6.1->tensorflow-gpu==2.0.0-alpha0) (40.9.0)\n",
      "Requirement already satisfied: werkzeug>=0.11.15 in /usr/local/lib/python3.6/dist-packages (from tb-nightly<1.14.0a20190302,>=1.14.0a20190301->tensorflow-gpu==2.0.0-alpha0) (0.15.2)\n",
      "Requirement already satisfied: markdown>=2.6.8 in /usr/local/lib/python3.6/dist-packages (from tb-nightly<1.14.0a20190302,>=1.14.0a20190301->tensorflow-gpu==2.0.0-alpha0) (3.1)\n"
     ]
    }
   ],
   "source": [
    "from __future__ import absolute_import, division, print_function, unicode_literals\n",
    "\n",
    "!pip install tensorflow-gpu==2.0.0-alpha0\n",
    "import tensorflow as tf\n",
    "\n",
    "import numpy as np\n",
    "import os\n",
    "import time"
   ]
  },
  {
   "cell_type": "markdown",
   "metadata": {
    "colab_type": "text",
    "id": "EHDoRoc5PKWz"
   },
   "source": [
    "### Download the  dataset\n",
    "\n",
    "Change the following line to run this code on your own data."
   ]
  },
  {
   "cell_type": "markdown",
   "metadata": {
    "colab": {},
    "colab_type": "code",
    "id": "EyiOLTSKY_Bi"
   },
   "source": [
    "# 天龍八部 dateset download here(自己抓的 目前只有前十幾章)--> https://drive.google.com/open?id=1NOCD5IkDEohFk0fh0Ii6Ki9oIT-1CjdJ"
   ]
  },
  {
   "cell_type": "code",
   "execution_count": 0,
   "metadata": {
    "colab": {},
    "colab_type": "code",
    "id": "Zt7fqFV1WgqH"
   },
   "outputs": [],
   "source": [
    "#from google.colab import files\n",
    "#uploaded = files.upload()"
   ]
  },
  {
   "cell_type": "code",
   "execution_count": 94,
   "metadata": {
    "colab": {
     "base_uri": "https://localhost:8080/",
     "height": 35
    },
    "colab_type": "code",
    "id": "tYZlei2PWseV",
    "outputId": "554ab977-d56b-4f20-db19-df6d25308d97"
   },
   "outputs": [
    {
     "name": "stdout",
     "output_type": "stream",
     "text": [
      "brother.txt  dragoneight.txt  \u001b[0m\u001b[01;34msample_data\u001b[0m/  \u001b[01;34mtraining_checkpoints\u001b[0m/\n"
     ]
    }
   ],
   "source": [
    "ls"
   ]
  },
  {
   "cell_type": "code",
   "execution_count": 0,
   "metadata": {
    "colab": {},
    "colab_type": "code",
    "id": "-R2ygoB2X2hL"
   },
   "outputs": [],
   "source": [
    "# rm -r 'brother.txt'"
   ]
  },
  {
   "cell_type": "code",
   "execution_count": 0,
   "metadata": {
    "colab": {},
    "colab_type": "code",
    "id": "pD_55cOxLkAb"
   },
   "outputs": [],
   "source": [
    "#path_to_file = tf.keras.utils.get_file('dragoneight.txt', '~./dragoneight.txt')"
   ]
  },
  {
   "cell_type": "markdown",
   "metadata": {
    "colab_type": "text",
    "id": "UHjdCjDuSvX_"
   },
   "source": [
    "### Read the data\n",
    "\n",
    "First, look in the text:"
   ]
  },
  {
   "cell_type": "code",
   "execution_count": 97,
   "metadata": {
    "colab": {
     "base_uri": "https://localhost:8080/",
     "height": 35
    },
    "colab_type": "code",
    "id": "aavnuByVymwK",
    "outputId": "f701cab2-31e5-4e2b-cffc-433483e6ba63"
   },
   "outputs": [
    {
     "name": "stdout",
     "output_type": "stream",
     "text": [
      "Length of text: 336691 characters\n"
     ]
    }
   ],
   "source": [
    "# Read, then decode for py2 compat.\n",
    "text = open('dragoneight.txt', 'rb').read().decode(encoding='utf-8')\n",
    "#text = open(path_to_file, 'rb').read().decode(encoding='unicode')\n",
    "#text = open('brother.txt', 'rb').read().decode(encoding='utf-8')\n",
    "\n",
    "# length of text is the number of characters in it\n",
    "print ('Length of text: {} characters'.format(len(text)))"
   ]
  },
  {
   "cell_type": "code",
   "execution_count": 98,
   "metadata": {
    "colab": {
     "base_uri": "https://localhost:8080/",
     "height": 107
    },
    "colab_type": "code",
    "id": "Duhg9NrUymwO",
    "outputId": "c2bf56ec-fcd4-43a9-fb75-21dbd587348c"
   },
   "outputs": [
    {
     "name": "stdout",
     "output_type": "stream",
     "text": [
      "﻿第一章　青衫磊落險峰行\r\n",
      "青光閃動，一柄青鋼劍倏地刺出，指向在年漢子左肩，使劍少年不等招用老，腕抖劍斜，劍鋒已削向那漢子右頸。那中年漢子劍擋格，錚的一聲響，雙劍相擊，嗡嗡作聲，震聲未絕，雙劍劍光霍霍，已拆了三招，中年漢子長劍猛地擊落，直砍少年頂門。那少年避向右側，左手劍訣一引，青鋼劍疾刺那漢子大腿。 \r\n",
      "　　兩人劍法迅捷，全力相搏。 \r\n",
      "　　練武廳東坐著二人。上首是個四十左右的中年道姑，鐵青著臉，嘴唇緊閉。下首是個五十餘歲的老者，右手捻著長鬚，神情甚是得意。兩人的座位相距一丈有餘，身後各站著二\n"
     ]
    }
   ],
   "source": [
    "# Take a look at the first 250 characters in text\n",
    "print(text[:250])"
   ]
  },
  {
   "cell_type": "code",
   "execution_count": 99,
   "metadata": {
    "colab": {
     "base_uri": "https://localhost:8080/",
     "height": 35
    },
    "colab_type": "code",
    "id": "IlCgQBRVymwR",
    "outputId": "2fa67c3b-f78d-4a87-a731-db60ce1c49db"
   },
   "outputs": [
    {
     "name": "stdout",
     "output_type": "stream",
     "text": [
      "3445 unique characters\n"
     ]
    }
   ],
   "source": [
    "# The unique characters in the file\n",
    "vocab = sorted(set(text))\n",
    "print ('{} unique characters'.format(len(vocab)))"
   ]
  },
  {
   "cell_type": "markdown",
   "metadata": {
    "colab_type": "text",
    "id": "rNnrKn_lL-IJ"
   },
   "source": [
    "## Process the text"
   ]
  },
  {
   "cell_type": "markdown",
   "metadata": {
    "colab_type": "text",
    "id": "LFjSVAlWzf-N"
   },
   "source": [
    "### Vectorize the text\n",
    "\n",
    "Before training, we need to map strings to a numerical representation. Create two lookup tables: one mapping characters to numbers, and another for numbers to characters."
   ]
  },
  {
   "cell_type": "code",
   "execution_count": 0,
   "metadata": {
    "colab": {},
    "colab_type": "code",
    "id": "IalZLbvOzf-F"
   },
   "outputs": [],
   "source": [
    "# Creating a mapping from unique characters to indices\n",
    "char2idx = {u:i for i, u in enumerate(vocab)}\n",
    "idx2char = np.array(vocab)\n",
    "\n",
    "text_as_int = np.array([char2idx[c] for c in text])"
   ]
  },
  {
   "cell_type": "markdown",
   "metadata": {
    "colab_type": "text",
    "id": "tZfqhkYCymwX"
   },
   "source": [
    "Now we have an integer representation for each character. Notice that we mapped the character as indexes from 0 to `len(unique)`."
   ]
  },
  {
   "cell_type": "code",
   "execution_count": 101,
   "metadata": {
    "colab": {
     "base_uri": "https://localhost:8080/",
     "height": 416
    },
    "colab_type": "code",
    "id": "FYyNlCNXymwY",
    "outputId": "7fc72be7-971c-4656-ab15-39dbbc78bf17"
   },
   "outputs": [
    {
     "name": "stdout",
     "output_type": "stream",
     "text": [
      "{\n",
      "  '\\n':   0,\n",
      "  '\\x0c':   1,\n",
      "  '\\r':   2,\n",
      "  ' ' :   3,\n",
      "  '\"' :   4,\n",
      "  '(' :   5,\n",
      "  ')' :   6,\n",
      "  '*' :   7,\n",
      "  ',' :   8,\n",
      "  '-' :   9,\n",
      "  '.' :  10,\n",
      "  ':' :  11,\n",
      "  '?' :  12,\n",
      "  '…' :  13,\n",
      "  '●' :  14,\n",
      "  '\\u3000':  15,\n",
      "  '、' :  16,\n",
      "  '。' :  17,\n",
      "  '「' :  18,\n",
      "  '」' :  19,\n",
      "  ...\n",
      "}\n"
     ]
    }
   ],
   "source": [
    "print('{')\n",
    "for char,_ in zip(char2idx, range(20)):\n",
    "    print('  {:4s}: {:3d},'.format(repr(char), char2idx[char]))\n",
    "print('  ...\\n}')"
   ]
  },
  {
   "cell_type": "code",
   "execution_count": 102,
   "metadata": {
    "colab": {
     "base_uri": "https://localhost:8080/",
     "height": 35
    },
    "colab_type": "code",
    "id": "l1VKcQHcymwb",
    "outputId": "cdcb96e3-1b89-4018-e3aa-026371f3b80c"
   },
   "outputs": [
    {
     "name": "stdout",
     "output_type": "stream",
     "text": [
      "'\\ufeff第一章\\u3000青衫磊落險峰行\\r' ---- characters mapped to int ---- > [3434 2221   22 2209   15 3235 2687 2128 2577 3197  876 2678    2]\n"
     ]
    }
   ],
   "source": [
    "# Show how the first 13 characters from the text are mapped to integers\n",
    "print ('{} ---- characters mapped to int ---- > {}'.format(repr(text[:13]), text_as_int[:13]))"
   ]
  },
  {
   "cell_type": "markdown",
   "metadata": {
    "colab_type": "text",
    "id": "bbmsf23Bymwe"
   },
   "source": [
    "### The prediction task"
   ]
  },
  {
   "cell_type": "markdown",
   "metadata": {
    "colab_type": "text",
    "id": "wssHQ1oGymwe"
   },
   "source": [
    "Given a character, or a sequence of characters, what is the most probable next character? This is the task we're training the model to perform. The input to the model will be a sequence of characters, and we train the model to predict the output—the following character at each time step.\n",
    "\n",
    "Since RNNs maintain an internal state that depends on the previously seen elements, given all the characters computed until this moment, what is the next character?\n"
   ]
  },
  {
   "cell_type": "markdown",
   "metadata": {
    "colab_type": "text",
    "id": "hgsVvVxnymwf"
   },
   "source": [
    "### Create training examples and targets\n",
    "\n",
    "Next divide the text into example sequences. Each input sequence will contain `seq_length` characters from the text. \n",
    "\n",
    "For each input sequence, the corresponding targets contain the same length of text, except shifted one character to the right. \n",
    "\n",
    "So break the text into chunks of `seq_length+1`. For example, say `seq_length` is 4 and our text is \"Hello\". The input sequence would be \"Hell\", and the target sequence \"ello\".\n",
    "\n",
    "To do this first use the `tf.data.Dataset.from_tensor_slices` function to convert the text vector into a stream of character indices."
   ]
  },
  {
   "cell_type": "code",
   "execution_count": 103,
   "metadata": {
    "colab": {
     "base_uri": "https://localhost:8080/",
     "height": 104
    },
    "colab_type": "code",
    "id": "0UHJDA39zf-O",
    "outputId": "3187f0c5-31e3-451e-c929-4d91037e69aa"
   },
   "outputs": [
    {
     "name": "stdout",
     "output_type": "stream",
     "text": [
      "﻿\n",
      "第\n",
      "一\n",
      "章\n",
      "　\n"
     ]
    }
   ],
   "source": [
    "# The maximum length sentence we want for a single input in characters\n",
    "seq_length = 100\n",
    "examples_per_epoch = len(text)//seq_length\n",
    "\n",
    "# Create training examples / targets\n",
    "char_dataset = tf.data.Dataset.from_tensor_slices(text_as_int)\n",
    "\n",
    "for i in char_dataset.take(5):\n",
    "  print(idx2char[i.numpy()])"
   ]
  },
  {
   "cell_type": "markdown",
   "metadata": {
    "colab_type": "text",
    "id": "-ZSYAcQV8OGP"
   },
   "source": [
    "The `batch` method lets us easily convert these individual characters to sequences of the desired size. "
   ]
  },
  {
   "cell_type": "code",
   "execution_count": 104,
   "metadata": {
    "colab": {
     "base_uri": "https://localhost:8080/",
     "height": 124
    },
    "colab_type": "code",
    "id": "l4hkDU3i7ozi",
    "outputId": "87f86727-e314-40ae-dabe-ed7d3b93ec34"
   },
   "outputs": [
    {
     "name": "stdout",
     "output_type": "stream",
     "text": [
      "'\\ufeff第一章\\u3000青衫磊落險峰行\\r\\n青光閃動，一柄青鋼劍倏地刺出，指向在年漢子左肩，使劍少年不等招用老，腕抖劍斜，劍鋒已削向那漢子右頸。那中年漢子劍擋格，錚的一聲響，雙劍相擊，嗡嗡作聲，震聲未絕，雙劍劍光霍霍，'\n",
      "'已拆了三招，中年漢子長劍猛地擊落，直砍少年頂門。那少年避向右側，左手劍訣一引，青鋼劍疾刺那漢子大腿。 \\r\\n\\u3000\\u3000兩人劍法迅捷，全力相搏。 \\r\\n\\u3000\\u3000練武廳東坐著二人。上首是個四十左右的中年道姑，鐵青著臉，嘴'\n",
      "'唇緊閉。下首是個五十餘歲的老者，右手捻著長鬚，神情甚是得意。兩人的座位相距一丈有餘，身後各站著二十餘名男女弟子。西邊一排椅子上坐著十餘位賓客。東西雙方的目光都集注於場中二人的角鬥。 \\r\\n\\u3000\\u3000眼見那少年與'\n",
      "'中年漢子已拆到七十餘招，劍招越來越緊，兀自未分勝敗。突然中年漢子一劍揮出，用力猛了，身子微微一幌，似欲摔跌。西邊賓客中一個身穿青衫的年輕男子忍不住「嗤」的一聲笑。他隨即知道失態，忙伸手按住了口。 \\r\\n\\u3000'\n",
      "'\\u3000便在這時，場中少年左手呼一掌拍出，擊向那漢子後心，那漢子向前跨出一步避開，手中長劍驀地圈轉，喝一聲：「著！」那少年左腿已然中劍，腿下一個踉蹌，長劍在地下一撐，站直身子待欲再鬥，那中年漢子已還劍入鞘，笑'\n"
     ]
    }
   ],
   "source": [
    "sequences = char_dataset.batch(seq_length+1, drop_remainder=True)\n",
    "\n",
    "for item in sequences.take(5):\n",
    "  print(repr(''.join(idx2char[item.numpy()])))"
   ]
  },
  {
   "cell_type": "markdown",
   "metadata": {
    "colab_type": "text",
    "id": "UbLcIPBj_mWZ"
   },
   "source": [
    "For each sequence, duplicate and shift it to form the input and target text by using the `map` method to apply a simple function to each batch:"
   ]
  },
  {
   "cell_type": "code",
   "execution_count": 0,
   "metadata": {
    "colab": {},
    "colab_type": "code",
    "id": "9NGu-FkO_kYU"
   },
   "outputs": [],
   "source": [
    "def split_input_target(chunk):\n",
    "    input_text = chunk[:-1]\n",
    "    target_text = chunk[1:]\n",
    "    return input_text, target_text\n",
    "\n",
    "dataset = sequences.map(split_input_target)"
   ]
  },
  {
   "cell_type": "markdown",
   "metadata": {
    "colab_type": "text",
    "id": "hiCopyGZymwi"
   },
   "source": [
    "Print the first examples input and target values:"
   ]
  },
  {
   "cell_type": "code",
   "execution_count": 106,
   "metadata": {
    "colab": {
     "base_uri": "https://localhost:8080/",
     "height": 72
    },
    "colab_type": "code",
    "id": "GNbw-iR0ymwj",
    "outputId": "11729d9e-e3d3-475a-f205-cd455f68f8cb"
   },
   "outputs": [
    {
     "name": "stdout",
     "output_type": "stream",
     "text": [
      "Input data:  '\\ufeff第一章\\u3000青衫磊落險峰行\\r\\n青光閃動，一柄青鋼劍倏地刺出，指向在年漢子左肩，使劍少年不等招用老，腕抖劍斜，劍鋒已削向那漢子右頸。那中年漢子劍擋格，錚的一聲響，雙劍相擊，嗡嗡作聲，震聲未絕，雙劍劍光霍霍'\n",
      "Target data: '第一章\\u3000青衫磊落險峰行\\r\\n青光閃動，一柄青鋼劍倏地刺出，指向在年漢子左肩，使劍少年不等招用老，腕抖劍斜，劍鋒已削向那漢子右頸。那中年漢子劍擋格，錚的一聲響，雙劍相擊，嗡嗡作聲，震聲未絕，雙劍劍光霍霍，'\n"
     ]
    }
   ],
   "source": [
    "for input_example, target_example in  dataset.take(1):\n",
    "  print ('Input data: ', repr(''.join(idx2char[input_example.numpy()])))\n",
    "  print ('Target data:', repr(''.join(idx2char[target_example.numpy()])))"
   ]
  },
  {
   "cell_type": "markdown",
   "metadata": {
    "colab_type": "text",
    "id": "_33OHL3b84i0"
   },
   "source": [
    "Each index of these vectors are processed as one time step. For the input at time step 0, the model receives the index for \"F\" and trys to predict the index for \"i\" as the next character. At the next timestep, it does the same thing but the `RNN` considers the previous step context in addition to the current input character."
   ]
  },
  {
   "cell_type": "code",
   "execution_count": 107,
   "metadata": {
    "colab": {
     "base_uri": "https://localhost:8080/",
     "height": 277
    },
    "colab_type": "code",
    "id": "0eBu9WZG84i0",
    "outputId": "945d69a1-b20c-402e-f434-2d436b5bf01d"
   },
   "outputs": [
    {
     "name": "stdout",
     "output_type": "stream",
     "text": [
      "Step    0\n",
      "  input: 3434 ('\\ufeff')\n",
      "  expected output: 2221 ('第')\n",
      "Step    1\n",
      "  input: 2221 ('第')\n",
      "  expected output: 22 ('一')\n",
      "Step    2\n",
      "  input: 22 ('一')\n",
      "  expected output: 2209 ('章')\n",
      "Step    3\n",
      "  input: 2209 ('章')\n",
      "  expected output: 15 ('\\u3000')\n",
      "Step    4\n",
      "  input: 15 ('\\u3000')\n",
      "  expected output: 3235 ('青')\n"
     ]
    }
   ],
   "source": [
    "for i, (input_idx, target_idx) in enumerate(zip(input_example[:5], target_example[:5])):\n",
    "    print(\"Step {:4d}\".format(i))\n",
    "    print(\"  input: {} ({:s})\".format(input_idx, repr(idx2char[input_idx])))\n",
    "    print(\"  expected output: {} ({:s})\".format(target_idx, repr(idx2char[target_idx])))"
   ]
  },
  {
   "cell_type": "markdown",
   "metadata": {
    "colab_type": "text",
    "id": "MJdfPmdqzf-R"
   },
   "source": [
    "### Create training batches\n",
    "\n",
    "We used `tf.data` to split the text into manageable sequences. But before feeding this data into the model, we need to shuffle the data and pack it into batches."
   ]
  },
  {
   "cell_type": "code",
   "execution_count": 108,
   "metadata": {
    "colab": {
     "base_uri": "https://localhost:8080/",
     "height": 35
    },
    "colab_type": "code",
    "id": "p2pGotuNzf-S",
    "outputId": "43f67fc2-e957-4cf4-98aa-2c6992dfa215"
   },
   "outputs": [
    {
     "data": {
      "text/plain": [
       "<BatchDataset shapes: ((128, 100), (128, 100)), types: (tf.int64, tf.int64)>"
      ]
     },
     "execution_count": 108,
     "metadata": {
      "tags": []
     },
     "output_type": "execute_result"
    }
   ],
   "source": [
    "# Batch size \n",
    "BATCH_SIZE = 128\n",
    "\n",
    "# Buffer size to shuffle the dataset\n",
    "# (TF data is designed to work with possibly infinite sequences, \n",
    "# so it doesn't attempt to shuffle the entire sequence in memory. Instead, \n",
    "# it maintains a buffer in which it shuffles elements).\n",
    "BUFFER_SIZE = 10000\n",
    "\n",
    "dataset = dataset.shuffle(BUFFER_SIZE).batch(BATCH_SIZE, drop_remainder=True)\n",
    "\n",
    "dataset"
   ]
  },
  {
   "cell_type": "markdown",
   "metadata": {
    "colab_type": "text",
    "id": "r6oUuElIMgVx"
   },
   "source": [
    "## Build The Model"
   ]
  },
  {
   "cell_type": "markdown",
   "metadata": {
    "colab_type": "text",
    "id": "m8gPwEjRzf-Z"
   },
   "source": [
    "Use `tf.keras.Sequential` to define the model. For this simple example three layers are used to define our model:\n",
    "\n",
    "* `tf.keras.layers.Embedding`: The input layer. A trainable lookup table that will map the numbers of each character to a vector with `embedding_dim` dimensions;\n",
    "* `tf.keras.layers.GRU`: A type of RNN with size `units=rnn_units` (You can also use a LSTM layer here.)\n",
    "* `tf.keras.layers.Dense`: The output layer, with `vocab_size` outputs."
   ]
  },
  {
   "cell_type": "code",
   "execution_count": 0,
   "metadata": {
    "colab": {},
    "colab_type": "code",
    "id": "zHT8cLh7EAsg"
   },
   "outputs": [],
   "source": [
    "# Length of the vocabulary in chars\n",
    "vocab_size = len(vocab)\n",
    "\n",
    "# The embedding dimension \n",
    "embedding_dim = 512\n",
    "\n",
    "# Number of RNN units\n",
    "rnn_units = 1024"
   ]
  },
  {
   "cell_type": "code",
   "execution_count": 0,
   "metadata": {
    "colab": {},
    "colab_type": "code",
    "id": "MtCrdfzEI2N0"
   },
   "outputs": [],
   "source": [
    "def build_model(vocab_size, embedding_dim, rnn_units, batch_size):\n",
    "  model = tf.keras.Sequential([\n",
    "    tf.keras.layers.Embedding(vocab_size, embedding_dim, \n",
    "                              batch_input_shape=[batch_size, None]),\n",
    "    tf.keras.layers.LSTM(rnn_units, \n",
    "                        return_sequences=True, \n",
    "                        stateful=True, \n",
    "                        recurrent_initializer='glorot_uniform'),\n",
    "    tf.keras.layers.Dense(vocab_size)\n",
    "  ])\n",
    "  return model"
   ]
  },
  {
   "cell_type": "code",
   "execution_count": 111,
   "metadata": {
    "colab": {
     "base_uri": "https://localhost:8080/",
     "height": 55
    },
    "colab_type": "code",
    "id": "wwsrpOik5zhv",
    "outputId": "dfe7f31b-480f-40a3-bdd1-8192907234dd"
   },
   "outputs": [
    {
     "name": "stderr",
     "output_type": "stream",
     "text": [
      "W0410 19:10:02.867451 139812515600256 tf_logging.py:161] <tensorflow.python.keras.layers.recurrent.UnifiedLSTM object at 0x7f28315f46d8>: Note that this layer is not optimized for performance. Please use tf.keras.layers.CuDNNLSTM for better performance on GPU.\n"
     ]
    }
   ],
   "source": [
    "model = build_model(\n",
    "  vocab_size = len(vocab), \n",
    "  embedding_dim=embedding_dim, \n",
    "  rnn_units=rnn_units, \n",
    "  batch_size=BATCH_SIZE)"
   ]
  },
  {
   "cell_type": "markdown",
   "metadata": {
    "colab_type": "text",
    "id": "RkA5upJIJ7W7"
   },
   "source": [
    "For each character the model looks up the embedding, runs the GRU one timestep with the embedding as input, and applies the dense layer to generate logits predicting the log-liklihood of the next character:\n",
    "\n",
    "![A drawing of the data passing through the model](https://tensorflow.org/tutorials/sequences/images/text_generation_training.png)"
   ]
  },
  {
   "cell_type": "markdown",
   "metadata": {
    "colab_type": "text",
    "id": "-ubPo0_9Prjb"
   },
   "source": [
    "## Try the model\n",
    "\n",
    "Now run the model to see that it behaves as expected.\n",
    "\n",
    "First check the shape of the output:"
   ]
  },
  {
   "cell_type": "code",
   "execution_count": 112,
   "metadata": {
    "colab": {
     "base_uri": "https://localhost:8080/",
     "height": 35
    },
    "colab_type": "code",
    "id": "C-_70kKAPrPU",
    "outputId": "6ac750fc-63fb-46e8-9200-a4714285a184"
   },
   "outputs": [
    {
     "name": "stdout",
     "output_type": "stream",
     "text": [
      "(128, 100, 3445) # (batch_size, sequence_length, vocab_size)\n"
     ]
    }
   ],
   "source": [
    "for input_example_batch, target_example_batch in dataset.take(1): \n",
    "  example_batch_predictions = model(input_example_batch)\n",
    "  print(example_batch_predictions.shape, \"# (batch_size, sequence_length, vocab_size)\")"
   ]
  },
  {
   "cell_type": "markdown",
   "metadata": {
    "colab_type": "text",
    "id": "Q6NzLBi4VM4o"
   },
   "source": [
    "In the above example the sequence length of the input is `100` but the model can be run on inputs of any length: "
   ]
  },
  {
   "cell_type": "code",
   "execution_count": 113,
   "metadata": {
    "colab": {
     "base_uri": "https://localhost:8080/",
     "height": 260
    },
    "colab_type": "code",
    "id": "vPGmAAXmVLGC",
    "outputId": "196bba77-f80d-44a5-ff70-5d763e72a15b"
   },
   "outputs": [
    {
     "name": "stdout",
     "output_type": "stream",
     "text": [
      "Model: \"sequential_2\"\n",
      "_________________________________________________________________\n",
      "Layer (type)                 Output Shape              Param #   \n",
      "=================================================================\n",
      "embedding_2 (Embedding)      (128, None, 512)          1763840   \n",
      "_________________________________________________________________\n",
      "unified_lstm_2 (UnifiedLSTM) (128, None, 1024)         6295552   \n",
      "_________________________________________________________________\n",
      "dense_2 (Dense)              (128, None, 3445)         3531125   \n",
      "=================================================================\n",
      "Total params: 11,590,517\n",
      "Trainable params: 11,590,517\n",
      "Non-trainable params: 0\n",
      "_________________________________________________________________\n"
     ]
    }
   ],
   "source": [
    "model.summary()"
   ]
  },
  {
   "cell_type": "markdown",
   "metadata": {
    "colab_type": "text",
    "id": "uwv0gEkURfx1"
   },
   "source": [
    "To get actual predictions from the model we need to sample from the output distribution, to get actual character indices. This distribution is defined by the logits over the character vocabulary. \n",
    "\n",
    "Note: It is important to _sample_ from this distribution as taking the _argmax_ of the distribution can easily get the model stuck in a loop.\n",
    "\n",
    "Try it for the first example in the batch:"
   ]
  },
  {
   "cell_type": "code",
   "execution_count": 0,
   "metadata": {
    "colab": {},
    "colab_type": "code",
    "id": "4V4MfFg0RQJg"
   },
   "outputs": [],
   "source": [
    "sampled_indices = tf.random.categorical(example_batch_predictions[0], num_samples=1)\n",
    "sampled_indices = tf.squeeze(sampled_indices,axis=-1).numpy()"
   ]
  },
  {
   "cell_type": "markdown",
   "metadata": {
    "colab_type": "text",
    "id": "QM1Vbxs_URw5"
   },
   "source": [
    "This gives us, at each timestep, a prediction of the next character index:"
   ]
  },
  {
   "cell_type": "code",
   "execution_count": 115,
   "metadata": {
    "colab": {
     "base_uri": "https://localhost:8080/",
     "height": 191
    },
    "colab_type": "code",
    "id": "YqFMUQc_UFgM",
    "outputId": "845fdd4c-85d9-4d92-d2c5-c34ad87352c2"
   },
   "outputs": [
    {
     "data": {
      "text/plain": [
       "array([3067,  603,  792,  941, 1962, 1160,  950, 2388,  708, 1076, 3097,\n",
       "       1247, 1736, 3394,  575, 1915, 2574, 1317, 2944, 1202, 1920,  424,\n",
       "       2918, 1486, 2296, 1544, 2433, 2786,  509, 1585, 2497,  617, 2267,\n",
       "        437, 1892, 1147, 1330, 2070, 1487, 1563, 1950, 2055,  500, 3193,\n",
       "       1618,  532, 1496, 3148,  613, 1416,   61,  933, 3051,  761, 1220,\n",
       "       2904, 3137, 1639,  489, 2437,  429, 1360, 1788, 3261, 1095, 2855,\n",
       "       2178, 3052, 1522, 3308, 3285,  481, 2816, 2722, 2861, 2512, 2873,\n",
       "       1595, 3118,  266, 1040,  891,  899, 1040, 1103, 1485, 2247,  849,\n",
       "       2997,  404, 3046, 2558, 1645, 3277, 2318,  771, 2344, 2996, 1060,\n",
       "        396])"
      ]
     },
     "execution_count": 115,
     "metadata": {
      "tags": []
     },
     "output_type": "execute_result"
    }
   ],
   "source": [
    "sampled_indices"
   ]
  },
  {
   "cell_type": "markdown",
   "metadata": {
    "colab_type": "text",
    "id": "LfLtsP3mUhCG"
   },
   "source": [
    "Decode these to see the text predicted by this untrained model:"
   ]
  },
  {
   "cell_type": "code",
   "execution_count": 116,
   "metadata": {
    "colab": {
     "base_uri": "https://localhost:8080/",
     "height": 124
    },
    "colab_type": "code",
    "id": "xWcFwPwLSo05",
    "outputId": "802ec3ed-ccd8-400c-c52f-ebfeccd99325"
   },
   "outputs": [
    {
     "name": "stdout",
     "output_type": "stream",
     "text": [
      "Input: \n",
      " '惱恨表哥。」她鼓著勇氣說了這幾句話，但一出口，心中便怦怦亂跳，自驚怎地如此大膽，竟敢出言衝撞母親。 \\r\\n\\u3000\\u3000王夫人眼光如冷電，在女兒臉上掃了幾下，半晌不語，跟著便閉上了眼睛。王語嫣大氣也不敢透一口，不'\n",
      "\n",
      "Next Char Predictions: \n",
      " '酬因宏店瑚戚庸翩妍悴鉤捆淡鷙噁狡萎摺軀抱猛各踢朵紳梨肪誰唯樑臣均粘吞爾懲撮眨杉椒珠盞哽隘歌喔東閉團昂了幻郁嫗拗跛鑊殘哞胃同攬漓順惶貯稷郊栓饑顯哀謹襤貿舐賤橋錦冠怖嶇巢怖愕朱篷尼逐叛邊荼殼額綵孔縹透恨又'\n"
     ]
    }
   ],
   "source": [
    "print(\"Input: \\n\", repr(\"\".join(idx2char[input_example_batch[0]])))\n",
    "print()\n",
    "print(\"Next Char Predictions: \\n\", repr(\"\".join(idx2char[sampled_indices ])))"
   ]
  },
  {
   "cell_type": "markdown",
   "metadata": {
    "colab_type": "text",
    "id": "LJL0Q0YPY6Ee"
   },
   "source": [
    "## Train the model"
   ]
  },
  {
   "cell_type": "markdown",
   "metadata": {
    "colab_type": "text",
    "id": "YCbHQHiaa4Ic"
   },
   "source": [
    "At this point the problem can be treated as a standard classification problem. Given the previous RNN state, and the input this time step, predict the class of the next character."
   ]
  },
  {
   "cell_type": "markdown",
   "metadata": {
    "colab_type": "text",
    "id": "trpqTWyvk0nr"
   },
   "source": [
    "### Attach an optimizer, and a loss function"
   ]
  },
  {
   "cell_type": "markdown",
   "metadata": {
    "colab_type": "text",
    "id": "UAjbjY03eiQ4"
   },
   "source": [
    "The standard `tf.keras.losses.sparse_softmax_crossentropy` loss function works in this case because it is applied across the last dimension of the predictions. \n",
    "\n",
    "Because our model returns logits, we need to set the `from_logits` flag. \n"
   ]
  },
  {
   "cell_type": "code",
   "execution_count": 117,
   "metadata": {
    "colab": {
     "base_uri": "https://localhost:8080/",
     "height": 52
    },
    "colab_type": "code",
    "id": "4HrXTACTdzY-",
    "outputId": "4aa2c87e-2f61-45dc-9991-e237a470c888"
   },
   "outputs": [
    {
     "name": "stdout",
     "output_type": "stream",
     "text": [
      "Prediction shape:  (128, 100, 3445)  # (batch_size, sequence_length, vocab_size)\n",
      "scalar_loss:       8.144802\n"
     ]
    }
   ],
   "source": [
    "def loss(labels, logits):\n",
    "  return tf.keras.losses.sparse_categorical_crossentropy(labels, logits, from_logits=True)\n",
    "\n",
    "example_batch_loss  = loss(target_example_batch, example_batch_predictions)\n",
    "print(\"Prediction shape: \", example_batch_predictions.shape, \" # (batch_size, sequence_length, vocab_size)\") \n",
    "print(\"scalar_loss:      \", example_batch_loss.numpy().mean())"
   ]
  },
  {
   "cell_type": "markdown",
   "metadata": {
    "colab_type": "text",
    "id": "jeOXriLcymww"
   },
   "source": [
    "Configure the training procedure using the `tf.keras.Model.compile` method. We'll use `tf.keras.optimizers.Adam` with default arguments and the loss function. "
   ]
  },
  {
   "cell_type": "code",
   "execution_count": 0,
   "metadata": {
    "colab": {},
    "colab_type": "code",
    "id": "DDl1_Een6rL0"
   },
   "outputs": [],
   "source": [
    "model.compile(optimizer='adam', loss=loss)"
   ]
  },
  {
   "cell_type": "markdown",
   "metadata": {
    "colab_type": "text",
    "id": "ieSJdchZggUj"
   },
   "source": [
    "### Configure checkpoints"
   ]
  },
  {
   "cell_type": "markdown",
   "metadata": {
    "colab_type": "text",
    "id": "C6XBUUavgF56"
   },
   "source": [
    "Use a `tf.keras.callbacks.ModelCheckpoint` to ensure that checkpoints are saved during training:"
   ]
  },
  {
   "cell_type": "code",
   "execution_count": 0,
   "metadata": {
    "colab": {},
    "colab_type": "code",
    "id": "W6fWTriUZP-n"
   },
   "outputs": [],
   "source": [
    "# Directory where the checkpoints will be saved\n",
    "checkpoint_dir = './training_checkpoints'\n",
    "# Name of the checkpoint files\n",
    "checkpoint_prefix = os.path.join(checkpoint_dir, \"ckpt_{epoch}\")\n",
    "\n",
    "checkpoint_callback=tf.keras.callbacks.ModelCheckpoint(\n",
    "    filepath=checkpoint_prefix,\n",
    "    save_weights_only=True)"
   ]
  },
  {
   "cell_type": "markdown",
   "metadata": {
    "colab_type": "text",
    "id": "3Ky3F_BhgkTW"
   },
   "source": [
    "### Execute the training"
   ]
  },
  {
   "cell_type": "markdown",
   "metadata": {
    "colab_type": "text",
    "id": "IxdOA-rgyGvs"
   },
   "source": [
    "To keep training time reasonable, use 3 epochs to train the model. In Colab, set the runtime to GPU for faster training."
   ]
  },
  {
   "cell_type": "code",
   "execution_count": 0,
   "metadata": {
    "colab": {},
    "colab_type": "code",
    "id": "7yGBE2zxMMHs"
   },
   "outputs": [],
   "source": [
    "EPOCHS=30"
   ]
  },
  {
   "cell_type": "code",
   "execution_count": 121,
   "metadata": {
    "colab": {
     "base_uri": "https://localhost:8080/",
     "height": 1057
    },
    "colab_type": "code",
    "id": "UK-hmKjYVoll",
    "outputId": "b553aa7c-a4c4-40aa-b34d-af603ca310b0"
   },
   "outputs": [
    {
     "name": "stdout",
     "output_type": "stream",
     "text": [
      "Epoch 1/30\n",
      "26/26 [==============================] - 14s 533ms/step - loss: 6.5264\n",
      "Epoch 2/30\n",
      "26/26 [==============================] - 13s 505ms/step - loss: 6.1077\n",
      "Epoch 3/30\n",
      "26/26 [==============================] - 13s 488ms/step - loss: 5.8168\n",
      "Epoch 4/30\n",
      "26/26 [==============================] - 13s 487ms/step - loss: 5.4683\n",
      "Epoch 5/30\n",
      "26/26 [==============================] - 13s 490ms/step - loss: 5.1483\n",
      "Epoch 6/30\n",
      "26/26 [==============================] - 13s 488ms/step - loss: 4.8655\n",
      "Epoch 7/30\n",
      "26/26 [==============================] - 13s 490ms/step - loss: 4.6563\n",
      "Epoch 8/30\n",
      "26/26 [==============================] - 13s 485ms/step - loss: 4.4974\n",
      "Epoch 9/30\n",
      "26/26 [==============================] - 13s 487ms/step - loss: 4.3742\n",
      "Epoch 10/30\n",
      "26/26 [==============================] - 13s 489ms/step - loss: 4.2728\n",
      "Epoch 11/30\n",
      "26/26 [==============================] - 13s 487ms/step - loss: 4.1845\n",
      "Epoch 12/30\n",
      "26/26 [==============================] - 13s 492ms/step - loss: 4.1066\n",
      "Epoch 13/30\n",
      "26/26 [==============================] - 13s 490ms/step - loss: 4.0357\n",
      "Epoch 14/30\n",
      "26/26 [==============================] - 13s 494ms/step - loss: 3.9698\n",
      "Epoch 15/30\n",
      "26/26 [==============================] - 13s 491ms/step - loss: 3.9084\n",
      "Epoch 16/30\n",
      "26/26 [==============================] - 13s 492ms/step - loss: 3.8534\n",
      "Epoch 17/30\n",
      "26/26 [==============================] - 13s 492ms/step - loss: 3.8038\n",
      "Epoch 18/30\n",
      "26/26 [==============================] - 13s 494ms/step - loss: 3.7479\n",
      "Epoch 19/30\n",
      "26/26 [==============================] - 13s 492ms/step - loss: 3.6952\n",
      "Epoch 20/30\n",
      "26/26 [==============================] - 13s 497ms/step - loss: 3.6456\n",
      "Epoch 21/30\n",
      "26/26 [==============================] - 13s 489ms/step - loss: 3.6002\n",
      "Epoch 22/30\n",
      "26/26 [==============================] - 13s 488ms/step - loss: 3.5556\n",
      "Epoch 23/30\n",
      "26/26 [==============================] - 13s 492ms/step - loss: 3.5129\n",
      "Epoch 24/30\n",
      "26/26 [==============================] - 13s 492ms/step - loss: 3.4739\n",
      "Epoch 25/30\n",
      "26/26 [==============================] - 13s 493ms/step - loss: 3.4394\n",
      "Epoch 26/30\n",
      "26/26 [==============================] - 13s 491ms/step - loss: 3.3932\n",
      "Epoch 27/30\n",
      "26/26 [==============================] - 13s 493ms/step - loss: 3.3525\n",
      "Epoch 28/30\n",
      "26/26 [==============================] - 13s 492ms/step - loss: 3.3127\n",
      "Epoch 29/30\n",
      "26/26 [==============================] - 13s 496ms/step - loss: 3.2740\n",
      "Epoch 30/30\n",
      "26/26 [==============================] - 13s 494ms/step - loss: 3.2375\n"
     ]
    }
   ],
   "source": [
    "history = model.fit(dataset, epochs=EPOCHS, callbacks=[checkpoint_callback])"
   ]
  },
  {
   "cell_type": "markdown",
   "metadata": {
    "colab_type": "text",
    "id": "kKkD5M6eoSiN"
   },
   "source": [
    "## Generate text"
   ]
  },
  {
   "cell_type": "markdown",
   "metadata": {
    "colab_type": "text",
    "id": "JIPcXllKjkdr"
   },
   "source": [
    "### Restore the latest checkpoint"
   ]
  },
  {
   "cell_type": "markdown",
   "metadata": {
    "colab_type": "text",
    "id": "LyeYRiuVjodY"
   },
   "source": [
    "To keep this prediction step simple, use a batch size of 1.\n",
    "\n",
    "Because of the way the RNN state is passed from timestep to timestep, the model only accepts a fixed batch size once built. \n",
    "\n",
    "To run the model with a different `batch_size`, we need to rebuild the model and restore the weights from the checkpoint.\n"
   ]
  },
  {
   "cell_type": "code",
   "execution_count": 122,
   "metadata": {
    "colab": {
     "base_uri": "https://localhost:8080/",
     "height": 35
    },
    "colab_type": "code",
    "id": "zk2WJ2-XjkGz",
    "outputId": "68a0d8da-3ca5-43d4-cfd3-29eb4c10a515"
   },
   "outputs": [
    {
     "data": {
      "text/plain": [
       "'./training_checkpoints/ckpt_30'"
      ]
     },
     "execution_count": 122,
     "metadata": {
      "tags": []
     },
     "output_type": "execute_result"
    }
   ],
   "source": [
    "tf.train.latest_checkpoint(checkpoint_dir)"
   ]
  },
  {
   "cell_type": "code",
   "execution_count": 123,
   "metadata": {
    "colab": {
     "base_uri": "https://localhost:8080/",
     "height": 55
    },
    "colab_type": "code",
    "id": "LycQ-ot_jjyu",
    "outputId": "f3ad5fff-cea7-47ea-c3c8-549553bf5f9b"
   },
   "outputs": [
    {
     "name": "stderr",
     "output_type": "stream",
     "text": [
      "W0410 19:16:30.613307 139812515600256 tf_logging.py:161] <tensorflow.python.keras.layers.recurrent.UnifiedLSTM object at 0x7f28237fd860>: Note that this layer is not optimized for performance. Please use tf.keras.layers.CuDNNLSTM for better performance on GPU.\n"
     ]
    }
   ],
   "source": [
    "model = build_model(vocab_size, embedding_dim, rnn_units, batch_size=1)\n",
    "\n",
    "model.load_weights(tf.train.latest_checkpoint(checkpoint_dir))\n",
    "\n",
    "model.build(tf.TensorShape([1, None]))"
   ]
  },
  {
   "cell_type": "code",
   "execution_count": 124,
   "metadata": {
    "colab": {
     "base_uri": "https://localhost:8080/",
     "height": 260
    },
    "colab_type": "code",
    "id": "71xa6jnYVrAN",
    "outputId": "0d2b718e-b744-4e34-823e-5050cc09ad14"
   },
   "outputs": [
    {
     "name": "stdout",
     "output_type": "stream",
     "text": [
      "Model: \"sequential_3\"\n",
      "_________________________________________________________________\n",
      "Layer (type)                 Output Shape              Param #   \n",
      "=================================================================\n",
      "embedding_3 (Embedding)      (1, None, 512)            1763840   \n",
      "_________________________________________________________________\n",
      "unified_lstm_3 (UnifiedLSTM) (1, None, 1024)           6295552   \n",
      "_________________________________________________________________\n",
      "dense_3 (Dense)              (1, None, 3445)           3531125   \n",
      "=================================================================\n",
      "Total params: 11,590,517\n",
      "Trainable params: 11,590,517\n",
      "Non-trainable params: 0\n",
      "_________________________________________________________________\n"
     ]
    }
   ],
   "source": [
    "model.summary()"
   ]
  },
  {
   "cell_type": "markdown",
   "metadata": {
    "colab_type": "text",
    "id": "DjGz1tDkzf-u"
   },
   "source": [
    "### The prediction loop\n",
    "\n",
    "The following code block generates the text:\n",
    "\n",
    "* It Starts by choosing a start string, initializing the RNN state and setting the number of characters to generate.\n",
    "\n",
    "* Get the prediction distribution of the next character using the start string and the RNN state.\n",
    "\n",
    "* Then, use a categorical distribution to calculate the index of the predicted character. Use this predicted character as our next input to the model.\n",
    "\n",
    "* The RNN state returned by the model is fed back into the model so that it now has more context, instead than only one word. After predicting the next word, the modified RNN states are again fed back into the model, which is how it learns as it gets more context from the previously predicted words.\n",
    "\n",
    "\n",
    "![To generate text the model's output is fed back to the input](https://tensorflow.org/tutorials/sequences/images/text_generation_sampling.png)\n",
    "\n",
    "Looking at the generated text, you'll see the model knows when to capitalize, make paragraphs and imitates a Shakespeare-like writing vocabulary. With the small number of training epochs, it has not yet learned to form coherent sentences."
   ]
  },
  {
   "cell_type": "code",
   "execution_count": 0,
   "metadata": {
    "colab": {},
    "colab_type": "code",
    "id": "WvuwZBX5Ogfd"
   },
   "outputs": [],
   "source": [
    "def generate_text(model, start_string):\n",
    "  # Evaluation step (generating text using the learned model)\n",
    "\n",
    "  # Number of characters to generate\n",
    "  num_generate = 1000\n",
    "\n",
    "  # Converting our start string to numbers (vectorizing) \n",
    "  input_eval = [char2idx[s] for s in start_string]\n",
    "  input_eval = tf.expand_dims(input_eval, 0)\n",
    "\n",
    "  # Empty string to store our results\n",
    "  text_generated = []\n",
    "\n",
    "  # Low temperatures results in more predictable text.\n",
    "  # Higher temperatures results in more surprising text.\n",
    "  # Experiment to find the best setting.\n",
    "  temperature = 0.6\n",
    "\n",
    "  # Here batch size == 1\n",
    "  model.reset_states()\n",
    "  for i in range(num_generate):\n",
    "      predictions = model(input_eval)\n",
    "      # remove the batch dimension\n",
    "      predictions = tf.squeeze(predictions, 0)\n",
    "\n",
    "      # using a categorical distribution to predict the word returned by the model\n",
    "      predictions = predictions / temperature\n",
    "      predicted_id = tf.random.categorical(predictions, num_samples=1)[-1,0].numpy()\n",
    "      \n",
    "      # We pass the predicted word as the next input to the model\n",
    "      # along with the previous hidden state\n",
    "      input_eval = tf.expand_dims([predicted_id], 0)\n",
    "      \n",
    "      text_generated.append(idx2char[predicted_id])\n",
    "\n",
    "  return (start_string + ''.join(text_generated))"
   ]
  },
  {
   "cell_type": "code",
   "execution_count": 128,
   "metadata": {
    "colab": {
     "base_uri": "https://localhost:8080/",
     "height": 416
    },
    "colab_type": "code",
    "id": "ktovv0RFhrkn",
    "outputId": "c7436fe7-74ac-4350-d864-07950c817480"
   },
   "outputs": [
    {
     "name": "stdout",
     "output_type": "stream",
     "text": [
      "那姑娘道：「婢子在常熟、丹陽、無錫、嘉興等地，一共辦過七起，還有 \r\n",
      "　　司馬林本相同時，只是一個人影從口中，立即刻過了去。 \r\n",
      "　　鍾萬仇道：「不是那麼？」段譽道：「我們在下這件事，都是不信。」 \r\n",
      "　　木婉清道：「我這小子一時便有的好人，不許這樣的人物，我可是你的心上，你這許多也不會。」 \r\n",
      "　　段譽道：「老是在這兒子，你別生氣，你們不知如何。」 \r\n",
      "　　諸保昆心下坦然，誰也不知。 \r\n",
      "　　那女郎道：「你們的話可是你的事，你也不是我的。」玉虛散人道：「你不敢逃走，就是你大理。這南海派與慕容先生的武功，卻無法可能，當下了日兒。」 \r\n",
      "　　段譽見她這鎮王夫人都是一個女子，也是不理，均是要駁不殺，也是不能讓他的話，那是不是？」 \r\n",
      "　　那少女道：「你師叔說了你，我瞧你不識，人家改在這裡，又有什麼地道？」鍾靈道：「你是我師父。」 \r\n",
      "　　段譽笑道：「我師父不是你的徒兒，你不知道，是不是？」 \r\n",
      "　　鍾萬仇大驚，當即站起身來，去拉她的『段譽』」，只見到那裡一個黑布女郎，低聲道：「段公子，你父親來到他們給我，倒霉不可。」 \r\n",
      "　　段譽見他這人影子都是一個兩根小環，每一下都是在空中，仰天之間，不知他是她的親哥哥又叫：「你……什麼？」段譽道：「你不知。你怎麼還要死。」 \r\n",
      "　　那女郎道：「你這般確是一個好朋友。」段譽道：「你是我的身子，你們真是假藥？」段譽低聲道：「不是！」阿朱道：「那麼人？」 \r\n",
      "　　鍾靈手中所中的神劍劍法卻仍是大丈，也不能為了。 \r\n",
      "　　段譽道：「正是我的爹爹。 \r\n",
      "　　青城派眾人同道：「原來姑蘇慕容兄家老爺之後，你這般性命的事，唉！」 \r\n",
      "　　行人之中，突然間馬背上一個人影子，右目上山了一個小蛇。段譽一個不過，說道：「是！」 \r\n",
      "　　鎮南王夫人見過彥之中的一個字：「段公子，你們便是要殺人家子。」 \r\n",
      "　　段譽見她雙足，上了兩個人，在她身上的一件古怪，似乎不是。南海鱷神怒道：「你這是真的聰明，很像。」 \r\n",
      "　　刀白風腮邊，忽地點頭，只見木婉清身邊一個長劍，臉色登時，已然是個人。 \r\n",
      "　　段譽聽到這廂，心中只得一陣淒涼，心想：「這六脈神劍劍譜上有所在心上，只是不是『窮凶極惡』，這一招『金算盤』。」 \r\n",
      "　　段譽見他這一步，也不會所說，一面也是不可。」只聽得一個女子道：「我找你的事，是不是？」段譽道：「是！」 \r\n",
      "　　那少女道：「這個……他……她……你……我不要跟你說了。」木婉清怒道：「你的什麼一事，見了這位姑娘，你瞧你這麼好\n"
     ]
    }
   ],
   "source": [
    "print(generate_text(model, start_string=u\"那姑娘道：「婢子在常熟、丹陽、無錫、嘉興等地，一共辦過七起，還有 \"))\n"
   ]
  },
  {
   "cell_type": "code",
   "execution_count": 0,
   "metadata": {
    "colab": {},
    "colab_type": "code",
    "id": "2Mizg5gC67h7"
   },
   "outputs": [],
   "source": []
  },
  {
   "cell_type": "markdown",
   "metadata": {
    "colab_type": "text",
    "id": "AM2Uma_-yVIq"
   },
   "source": [
    "The easiest thing you can do to improve the results it to train it for longer (try `EPOCHS=30`).\n",
    "\n",
    "You can also experiment with a different start string, or try adding another RNN layer to improve the model's accuracy, or adjusting the temperature parameter to generate more or less random predictions."
   ]
  },
  {
   "cell_type": "markdown",
   "metadata": {
    "colab_type": "text",
    "id": "Y4QwTjAM6A2O"
   },
   "source": [
    "## Advanced: Customized Training\n",
    "\n",
    "The above training procedure is simple, but does not give you much control.\n",
    "\n",
    "So now that you've seen how to run the model manually let's unpack the training loop, and implement it ourselves. This gives a starting point if, for example, to implement _curriculum learning_ to help stabilize the model's open-loop output. \n",
    "\n",
    "We will use `tf.GradientTape` to track the gradiends. You can learn more about this approach by reading the [eager execution guide](https://www.tensorflow.org/guide/eager).\n",
    "\n",
    "The procedure works as follows:\n",
    "\n",
    "* First, initialize the RNN state. We do this by calling the `tf.keras.Model.reset_states` method.\n",
    "\n",
    "* Next, iterate over the dataset (batch by batch) and calculate the *predictions* associated with each.\n",
    "\n",
    "* Open a `tf.GradientTape`, and calculate the predictions and loss in that context.\n",
    "\n",
    "* Calculate the gradients of the loss with respect to the model variables using the `tf.GradientTape.grads` method.\n",
    "\n",
    "* Finally, take a step downwards by using the optimizer's `tf.train.Optimizer.apply_gradients` method.\n",
    "\n"
   ]
  },
  {
   "cell_type": "code",
   "execution_count": 0,
   "metadata": {
    "colab": {
     "base_uri": "https://localhost:8080/",
     "height": 54
    },
    "colab_type": "code",
    "id": "_XAm7eCoKULT",
    "outputId": "1b92cd5a-535f-4b78-8871-f0828d50e32c"
   },
   "outputs": [
    {
     "name": "stderr",
     "output_type": "stream",
     "text": [
      "W0410 13:50:10.519439 139729813608320 tf_logging.py:161] <tensorflow.python.keras.layers.recurrent.UnifiedLSTM object at 0x7f14e122bac8>: Note that this layer is not optimized for performance. Please use tf.keras.layers.CuDNNLSTM for better performance on GPU.\n"
     ]
    }
   ],
   "source": [
    "model = build_model(\n",
    "  vocab_size = len(vocab), \n",
    "  embedding_dim=embedding_dim, \n",
    "  rnn_units=rnn_units, \n",
    "  batch_size=BATCH_SIZE)"
   ]
  },
  {
   "cell_type": "code",
   "execution_count": 0,
   "metadata": {
    "colab": {},
    "colab_type": "code",
    "id": "qUKhnZtMVpoJ"
   },
   "outputs": [],
   "source": [
    "optimizer = tf.keras.optimizers.Adam()"
   ]
  },
  {
   "cell_type": "code",
   "execution_count": 0,
   "metadata": {
    "colab": {},
    "colab_type": "code",
    "id": "b4kH1o0leVIp"
   },
   "outputs": [],
   "source": [
    "@tf.function\n",
    "def train_step(inp, target):\n",
    "  with tf.GradientTape() as tape:\n",
    "    predictions = model(inp)\n",
    "    loss = tf.reduce_mean(\n",
    "        tf.keras.losses.sparse_categorical_crossentropy(target, predictions))\n",
    "  grads = tape.gradient(loss, model.trainable_variables)\n",
    "  optimizer.apply_gradients(zip(grads, model.trainable_variables))\n",
    "  \n",
    "  return loss"
   ]
  },
  {
   "cell_type": "code",
   "execution_count": 0,
   "metadata": {
    "colab": {
     "base_uri": "https://localhost:8080/",
     "height": 697
    },
    "colab_type": "code",
    "id": "d4tSNwymzf-q",
    "outputId": "0c5454fd-b3d6-4e15-dce5-7fb68baffd9d"
   },
   "outputs": [
    {
     "name": "stdout",
     "output_type": "stream",
     "text": [
      "Epoch 1 Batch 0 Loss 12.630916595458984\n",
      "Epoch 1 Loss 8.0426\n",
      "Time taken for 1 epoch 15.544925689697266 sec\n",
      "\n",
      "Epoch 2 Batch 0 Loss 7.491278171539307\n",
      "Epoch 2 Loss 7.6190\n",
      "Time taken for 1 epoch 13.30087947845459 sec\n",
      "\n",
      "Epoch 3 Batch 0 Loss 7.048155307769775\n",
      "Epoch 3 Loss 7.9869\n",
      "Time taken for 1 epoch 13.26626181602478 sec\n",
      "\n",
      "Epoch 4 Batch 0 Loss 7.859305381774902\n",
      "Epoch 4 Loss 9.2736\n",
      "Time taken for 1 epoch 13.248638391494751 sec\n",
      "\n",
      "Epoch 5 Batch 0 Loss 9.33044719696045\n",
      "Epoch 5 Loss 9.7614\n",
      "Time taken for 1 epoch 13.188672304153442 sec\n",
      "\n",
      "Epoch 6 Batch 0 Loss 9.808359146118164\n",
      "Epoch 6 Loss 9.7886\n",
      "Time taken for 1 epoch 13.041417121887207 sec\n",
      "\n",
      "Epoch 7 Batch 0 Loss 9.832276344299316\n",
      "Epoch 7 Loss 9.7555\n",
      "Time taken for 1 epoch 13.037736654281616 sec\n",
      "\n",
      "Epoch 8 Batch 0 Loss 9.880566596984863\n",
      "Epoch 8 Loss 9.6560\n",
      "Time taken for 1 epoch 13.072481155395508 sec\n",
      "\n",
      "Epoch 9 Batch 0 Loss 9.786015510559082\n",
      "Epoch 9 Loss 9.6560\n",
      "Time taken for 1 epoch 13.043611288070679 sec\n",
      "\n",
      "Epoch 10 Batch 0 Loss 9.786002159118652\n",
      "Epoch 10 Loss 9.6560\n",
      "Time taken for 1 epoch 13.145216703414917 sec\n",
      "\n"
     ]
    }
   ],
   "source": [
    "# Training step\n",
    "EPOCHS = 10\n",
    "\n",
    "for epoch in range(EPOCHS):\n",
    "  start = time.time()\n",
    "\n",
    "  for (batch_n, (inp, target)) in enumerate(dataset):\n",
    "    loss = train_step(inp, target)\n",
    "\n",
    "    if batch_n % 100 == 0:\n",
    "      template = 'Epoch {} Batch {} Loss {}'\n",
    "      print(template.format(epoch+1, batch_n, loss))\n",
    "\n",
    "  # saving (checkpoint) the model every 5 epochs\n",
    "  if (epoch + 1) % 5 == 0:\n",
    "    model.save_weights(checkpoint_prefix.format(epoch=epoch))\n",
    "\n",
    "  print ('Epoch {} Loss {:.4f}'.format(epoch+1, loss))\n",
    "  print ('Time taken for 1 epoch {} sec\\n'.format(time.time() - start))\n",
    "\n",
    "model.save_weights(checkpoint_prefix.format(epoch=epoch))"
   ]
  }
 ],
 "metadata": {
  "accelerator": "GPU",
  "colab": {
   "collapsed_sections": [],
   "name": "Copy of text_generation.ipynb",
   "provenance": [],
   "version": "0.3.2"
  },
  "kernelspec": {
   "display_name": "Python 3",
   "language": "python",
   "name": "python3"
  },
  "language_info": {
   "codemirror_mode": {
    "name": "ipython",
    "version": 3
   },
   "file_extension": ".py",
   "mimetype": "text/x-python",
   "name": "python",
   "nbconvert_exporter": "python",
   "pygments_lexer": "ipython3",
   "version": "3.6.8"
  }
 },
 "nbformat": 4,
 "nbformat_minor": 1
}
